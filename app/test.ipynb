{
 "cells": [
  {
   "cell_type": "code",
   "execution_count": null,
   "metadata": {},
   "outputs": [],
   "source": [
    "from database import DB\n",
    "Library = DB()\n",
    "Library.init_db()"
   ]
  },
  {
   "cell_type": "code",
   "execution_count": null,
   "metadata": {},
   "outputs": [],
   "source": [
    "from tools.helpers import random_published, rnd_loan_date\n",
    "from tools.func import int_date\n",
    "a = random_published()\n",
    "b = int_date(random_published(),splitter='/') # will be deferent than a\n",
    "c = rnd_loan_date()\n",
    "a, b, c"
   ]
  },
  {
   "cell_type": "code",
   "execution_count": null,
   "metadata": {},
   "outputs": [],
   "source": [
    "# test **kw\n",
    "\n",
    "def something(**kw):\n",
    "    keys = tuple(kw.keys())\n",
    "    values = tuple(kw.values())\n",
    "    return keys, values\n",
    "\n",
    "something(yair = 2, alonso = 'fart')"
   ]
  },
  {
   "cell_type": "code",
   "execution_count": null,
   "metadata": {},
   "outputs": [],
   "source": [
    "from tools.helpers import progress\n",
    "\n",
    "progress(10,100,'inserting customers')"
   ]
  }
 ],
 "metadata": {
  "interpreter": {
   "hash": "7b30385276fe124128402d8af6874bfcf39cb6e12a0623d46687e4dd0a8955c9"
  },
  "kernelspec": {
   "display_name": "Python 3.8.10 ('env': venv)",
   "language": "python",
   "name": "python3"
  },
  "language_info": {
   "codemirror_mode": {
    "name": "ipython",
    "version": 3
   },
   "file_extension": ".py",
   "mimetype": "text/x-python",
   "name": "python",
   "nbconvert_exporter": "python",
   "pygments_lexer": "ipython3",
   "version": "3.8.10"
  },
  "orig_nbformat": 4
 },
 "nbformat": 4,
 "nbformat_minor": 2
}
